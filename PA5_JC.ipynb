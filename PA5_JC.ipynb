{
 "cells": [
  {
   "cell_type": "markdown",
   "id": "5a8b43e6",
   "metadata": {},
   "source": [
    "### Task 1: Language Translator - write a program that implements a translation dictionary using a Python dictionary data structure that maps 10 English words to 10 words in another language (e.g.Spanish, German, Farsi, Arabic,Japanese, etc.). The keysin your dictionary should be in English (all lower case), and your values should be in your target language (also all lowercase). Your program should ask for words in English to translate to your target language until the user entersthe number zero (0). Your program should provide input/output  precisely as the output below:"
   ]
  },
  {
   "cell_type": "code",
   "execution_count": 3,
   "id": "625b4b91",
   "metadata": {},
   "outputs": [
    {
     "name": "stdout",
     "output_type": "stream",
     "text": [
      "Enter an English word to translate (or '0' to exit): uno\n",
      "Uno in Spanish is: Word not found in the dictionary\n",
      "Enter an English word to translate (or '0' to exit): One\n",
      "One in Spanish is: uno\n",
      "Enter an English word to translate (or '0' to exit): one\n",
      "One in Spanish is: uno\n",
      "Enter an English word to translate (or '0' to exit): 0\n",
      "Goodbye!\n"
     ]
    }
   ],
   "source": [
    "translation_dict = {\"one\": \"uno\",\"two\": \"dos\",\"three\": \"tres\",\"four\": \"cuatro\",\"five\": \"cinco\", \"six\": \"seis\",\n",
    "                    \"seven\": \"siete\",\"eight\": \"ocho\",\"nine\": \"nueve\",\"ten\": \"diez\"}\n",
    "def translate_word(word):\n",
    "    return translation_dict.get(word, \"Word not found in the dictionary\")\n",
    "while True:\n",
    "    word = input(\"Enter an English word to translate (or '0' to exit): \").lower()\n",
    "    if word == '0':\n",
    "        break\n",
    "    translation = translate_word(word)\n",
    "    print(f\"{word} in Spanish is: {translation}\")\n",
    "print(\"Goodbye!\")"
   ]
  },
  {
   "cell_type": "markdown",
   "id": "6015c432",
   "metadata": {},
   "source": [
    "### Task 2: Temperature converter- Create a dictionary named temp_dict containing the highest temperature in Fahrenheit for each day of September 2023 in Louisville, Kentucky. The keys will be the day of the month, and the values will be the temperature in Fahrenheit. Access each temperature value in Fahrenheit from the dictionary, convert it to Celsius using the formula (temperature - 32) * 5/9, and update the original dictionary with the Celsius value. Take help from the weather app to create a correct dictionary. {Day1: 89, Day2: 76, ……….}"
   ]
  },
  {
   "cell_type": "code",
   "execution_count": 6,
   "id": "7dc0fe59",
   "metadata": {},
   "outputs": [
    {
     "name": "stdout",
     "output_type": "stream",
     "text": [
      "Day1: 89°F, 31.67°C\n",
      "Day2: 76°F, 24.44°C\n",
      "Day3: 91°F, 32.78°C\n",
      "Day4: 92°F, 33.33°C\n",
      "Day5: 88°F, 31.11°C\n",
      "Day6: 83°F, 28.33°C\n",
      "Day7: 77°F, 25.00°C\n",
      "Day8: 82°F, 27.78°C\n",
      "Day9: 79°F, 26.11°C\n",
      "Day10: 84°F, 28.89°C\n",
      "Day11: 87°F, 30.56°C\n",
      "Day12: 78°F, 25.56°C\n",
      "Day13: 81°F, 27.22°C\n",
      "Day14: 82°F, 27.78°C\n",
      "Day15: 81°F, 27.22°C\n",
      "Day16: 82°F, 27.78°C\n",
      "Day17: 78°F, 25.56°C\n",
      "Day18: 79°F, 26.11°C\n",
      "Day19: 81°F, 27.22°C\n",
      "Day20: 85°F, 29.44°C\n",
      "Day21: 85°F, 29.44°C\n",
      "Day22: 88°F, 31.11°C\n",
      "Day23: 82°F, 27.78°C\n",
      "Day24: 83°F, 28.33°C\n",
      "Day25: 86°F, 30.00°C\n",
      "Day26: 88°F, 31.11°C\n",
      "Day27: 81°F, 27.22°C\n",
      "Day28: 81°F, 27.22°C\n",
      "Day29: 84°F, 28.89°C\n",
      "Day30: 85°F, 29.44°C\n"
     ]
    }
   ],
   "source": [
    "temp_dict = {\"Day1\": 89,\"Day2\": 76,\"Day3\": 91,\"Day4\": 92,\"Day5\": 88,\"Day6\": 83,\"Day7\": 77,\"Day8\": 82,\"Day9\": 79,\n",
    "    \"Day10\": 84,\"Day11\": 87,\"Day12\": 78,\"Day13\": 81,\"Day14\": 82,\"Day15\": 81,\"Day16\": 82,\"Day17\": 78,\"Day18\": 79,\n",
    "    \"Day19\": 81,\"Day20\": 85,\"Day21\": 85,\"Day22\": 88,\"Day23\": 82,\"Day24\": 83,\"Day25\": 86,\"Day26\": 88,\"Day27\": 81,\n",
    "    \"Day28\": 81,\"Day29\": 84,\"Day30\": 85,}\n",
    "def fahrenheit_to_celsius(fahrenheit):\n",
    "    return (fahrenheit - 32) * 5/9\n",
    "for day, fahrenheit_temp in temp_dict.items():\n",
    "    celsius_temp = fahrenheit_to_celsius(fahrenheit_temp)\n",
    "    temp_dict[day] = (fahrenheit_temp, celsius_temp)\n",
    "for day, (fahrenheit, celsius) in temp_dict.items():\n",
    "    print(f\"{day}: {fahrenheit}°F, {celsius:.2f}°C\")"
   ]
  },
  {
   "cell_type": "markdown",
   "id": "9bc38538",
   "metadata": {},
   "source": [
    "### Task 3: Write a Python script to create a dictionary where the keys are numbers between 1 and 15 (both included) and the values are the squares of the keys."
   ]
  },
  {
   "cell_type": "code",
   "execution_count": 8,
   "id": "74c8321a",
   "metadata": {},
   "outputs": [
    {
     "name": "stdout",
     "output_type": "stream",
     "text": [
      "{1: 1, 2: 4, 3: 9, 4: 16, 5: 25, 6: 36, 7: 49, 8: 64, 9: 81, 10: 100, 11: 121, 12: 144, 13: 169, 14: 196, 15: 225}\n"
     ]
    }
   ],
   "source": [
    "squares= {number: number ** 2 for number in range(1, 16)}\n",
    "print(squares)"
   ]
  },
  {
   "cell_type": "markdown",
   "id": "6a9012b5",
   "metadata": {},
   "source": [
    "### Task4: User Profile Dictionary Create a Python program that manages user profiles using a dictionary. Follow these steps:\n",
    "    A. Create an empty dictionary named user_profiles to store user information.\n",
    "    B. Implement a while loop that allows users to input their information. The loop should repeatedly ask the user to enter their name, age, email, and city. Add this information to the user_profiles dictionary.\n",
    "    C. Add a break condition to exit the loop.\n",
    "    D. Ask the user to input their information and add it to the dictionary. Allow the user to search for a specific user's profile by providing their name. If the user is found, display their profile; otherwise, show a message that the user is not found."
   ]
  },
  {
   "cell_type": "code",
   "execution_count": 9,
   "id": "1fb9fe58",
   "metadata": {},
   "outputs": [
    {
     "name": "stdout",
     "output_type": "stream",
     "text": [
      "Enter user name (or 'q' to quit): John\n",
      "Enter user age: 22\n",
      "Enter user email: jcason\n",
      "Enter user city: Owensboro\n",
      "Enter user name (or 'q' to quit): q\n",
      "Enter a name to search for a user's profile: John\n",
      "User Profile:\n",
      "Name: John\n",
      "Age: 22\n",
      "Email: jcason\n",
      "City: Owensboro\n"
     ]
    }
   ],
   "source": [
    "user_profiles = {}\n",
    "while True:\n",
    "    name = input(\"Enter user name (or 'q' to quit): \")\n",
    "    if name.lower() == 'q':\n",
    "        break\n",
    "    age = input(\"Enter user age: \")\n",
    "    email = input(\"Enter user email: \")\n",
    "    city = input(\"Enter user city: \")\n",
    "    user_profiles[name] = {\"age\": age,\"email\": email,\"city\": city}\n",
    "search= input(\"Enter a name to search for a user's profile: \")\n",
    "profile = user_profiles.get(search)\n",
    "if profile:\n",
    "    print(\"User Profile:\")\n",
    "    print(f\"Name: {search}\")\n",
    "    print(f\"Age: {profile['age']}\")\n",
    "    print(f\"Email: {profile['email']}\")\n",
    "    print(f\"City: {profile['city']}\")\n",
    "else:\n",
    "    print(\"User not found in the user profiles.\")"
   ]
  },
  {
   "cell_type": "code",
   "execution_count": null,
   "id": "3e1bbf96",
   "metadata": {},
   "outputs": [],
   "source": []
  }
 ],
 "metadata": {
  "kernelspec": {
   "display_name": "Python 3 (ipykernel)",
   "language": "python",
   "name": "python3"
  },
  "language_info": {
   "codemirror_mode": {
    "name": "ipython",
    "version": 3
   },
   "file_extension": ".py",
   "mimetype": "text/x-python",
   "name": "python",
   "nbconvert_exporter": "python",
   "pygments_lexer": "ipython3",
   "version": "3.11.4"
  }
 },
 "nbformat": 4,
 "nbformat_minor": 5
}
